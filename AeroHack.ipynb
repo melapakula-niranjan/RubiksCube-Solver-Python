{
  "nbformat": 4,
  "nbformat_minor": 0,
  "metadata": {
    "colab": {
      "provenance": []
    },
    "kernelspec": {
      "name": "python3",
      "display_name": "Python 3"
    },
    "language_info": {
      "name": "python"
    }
  },
  "cells": [
    {
      "cell_type": "code",
      "source": [
        "def get_solved_cube():\n",
        "    return {\n",
        "        'U': ['W'] * 9,\n",
        "        'D': ['Y'] * 9,\n",
        "        'F': ['G'] * 9,\n",
        "        'B': ['B'] * 9,\n",
        "        'L': ['O'] * 9,\n",
        "        'R': ['R'] * 9\n",
        "    }\n",
        "\n",
        "def show_pretty(c):\n",
        "    def row(f, i): return ' '.join(c[f][i*3:i*3+3])\n",
        "    s = '      '\n",
        "    print(s + row('U', 0))\n",
        "    print(s + row('U', 1))\n",
        "    print(s + row('U', 2))\n",
        "    for i in range(3):\n",
        "        print(row('L', i) + '   ' + row('F', i) + '   ' + row('R', i) + '   ' + row('B', i))\n",
        "    print(s + row('D', 0))\n",
        "    print(s + row('D', 1))\n",
        "    print(s + row('D', 2))\n"
      ],
      "metadata": {
        "id": "YfCKhQ735Ti5"
      },
      "execution_count": 12,
      "outputs": []
    },
    {
      "cell_type": "code",
      "source": [
        "cube = get_solved_cube()\n",
        "show_pretty(cube)\n"
      ],
      "metadata": {
        "colab": {
          "base_uri": "https://localhost:8080/"
        },
        "id": "ttxVngvp5Tlp",
        "outputId": "879cba37-173a-4808-a001-3734c5e3b4f2"
      },
      "execution_count": 13,
      "outputs": [
        {
          "output_type": "stream",
          "name": "stdout",
          "text": [
            "      W W W\n",
            "      W W W\n",
            "      W W W\n",
            "O O O   G G G   R R R   B B B\n",
            "O O O   G G G   R R R   B B B\n",
            "O O O   G G G   R R R   B B B\n",
            "      Y Y Y\n",
            "      Y Y Y\n",
            "      Y Y Y\n"
          ]
        }
      ]
    },
    {
      "cell_type": "code",
      "source": [
        "def move_U(c):\n",
        "    a = c['U']\n",
        "    a[0], a[2], a[8], a[6] = a[6], a[0], a[2], a[8]\n",
        "    a[1], a[5], a[7], a[3] = a[3], a[1], a[5], a[7]\n",
        "    c['F'][0], c['R'][0], c['B'][0], c['L'][0] = c['L'][0], c['F'][0], c['R'][0], c['B'][0]\n",
        "    c['F'][1], c['R'][1], c['B'][1], c['L'][1] = c['L'][1], c['F'][1], c['R'][1], c['B'][1]\n",
        "    c['F'][2], c['R'][2], c['B'][2], c['L'][2] = c['L'][2], c['F'][2], c['R'][2], c['B'][2]\n",
        "\n",
        "def move_Up(c):\n",
        "    for _ in range(3): move_U(c)\n",
        "\n",
        "def move_D(c):\n",
        "    a = c['D']\n",
        "    a[0], a[2], a[8], a[6] = a[6], a[0], a[2], a[8]\n",
        "    a[1], a[5], a[7], a[3] = a[3], a[1], a[5], a[7]\n",
        "    c['F'][6], c['L'][6], c['B'][6], c['R'][6] = c['R'][6], c['F'][6], c['L'][6], c['B'][6]\n",
        "    c['F'][7], c['L'][7], c['B'][7], c['R'][7] = c['R'][7], c['F'][7], c['L'][7], c['B'][7]\n",
        "    c['F'][8], c['L'][8], c['B'][8], c['R'][8] = c['R'][8], c['F'][8], c['L'][8], c['B'][8]\n",
        "\n",
        "def move_Dp(c):\n",
        "    for _ in range(3): move_D(c)\n",
        "\n",
        "def move_L(c):\n",
        "    a = c['L']\n",
        "    a[0], a[2], a[8], a[6] = a[6], a[0], a[2], a[8]\n",
        "    a[1], a[5], a[7], a[3] = a[3], a[1], a[5], a[7]\n",
        "    c['U'][0], c['F'][0], c['D'][0], c['B'][8] = c['B'][8], c['U'][0], c['F'][0], c['D'][0]\n",
        "    c['U'][3], c['F'][3], c['D'][3], c['B'][5] = c['B'][5], c['U'][3], c['F'][3], c['D'][3]\n",
        "    c['U'][6], c['F'][6], c['D'][6], c['B'][2] = c['B'][2], c['U'][6], c['F'][6], c['D'][6]\n",
        "\n",
        "def move_Lp(c):\n",
        "    for _ in range(3): move_L(c)\n",
        "\n",
        "def move_R(c):\n",
        "    a = c['R']\n",
        "    a[0], a[2], a[8], a[6] = a[6], a[0], a[2], a[8]\n",
        "    a[1], a[5], a[7], a[3] = a[3], a[1], a[5], a[7]\n",
        "    c['U'][2], c['B'][6], c['D'][2], c['F'][2] = c['F'][2], c['U'][2], c['B'][6], c['D'][2]\n",
        "    c['U'][5], c['B'][3], c['D'][5], c['F'][5] = c['F'][5], c['U'][5], c['B'][3], c['D'][5]\n",
        "    c['U'][8], c['B'][0], c['D'][8], c['F'][8] = c['F'][8], c['U'][8], c['B'][0], c['D'][8]\n",
        "\n",
        "def move_Rp(c):\n",
        "    for _ in range(3): move_R(c)\n",
        "\n",
        "def move_F(c):\n",
        "    a = c['F']\n",
        "    a[0], a[2], a[8], a[6] = a[6], a[0], a[2], a[8]\n",
        "    a[1], a[5], a[7], a[3] = a[3], a[1], a[5], a[7]\n",
        "    c['U'][6], c['R'][0], c['D'][2], c['L'][8] = c['L'][8], c['U'][6], c['R'][0], c['D'][2]\n",
        "    c['U'][7], c['R'][3], c['D'][1], c['L'][5] = c['L'][5], c['U'][7], c['R'][3], c['D'][1]\n",
        "    c['U'][8], c['R'][6], c['D'][0], c['L'][2] = c['L'][2], c['U'][8], c['R'][6], c['D'][0]\n",
        "\n",
        "def move_Fp(c):\n",
        "    for _ in range(3): move_F(c)\n",
        "\n",
        "def move_B(c):\n",
        "    a = c['B']\n",
        "    a[0], a[2], a[8], a[6] = a[6], a[0], a[2], a[8]\n",
        "    a[1], a[5], a[7], a[3] = a[3], a[1], a[5], a[7]\n",
        "    c['U'][0], c['L'][0], c['D'][8], c['R'][8] = c['R'][8], c['U'][0], c['L'][0], c['D'][8]\n",
        "    c['U'][1], c['L'][3], c['D'][7], c['R'][5] = c['R'][5], c['U'][1], c['L'][3], c['D'][7]\n",
        "    c['U'][2], c['L'][6], c['D'][6], c['R'][2] = c['R'][2], c['U'][2], c['L'][6], c['D'][6]\n",
        "\n",
        "def move_Bp(c):\n",
        "    for _ in range(3): move_B(c)\n"
      ],
      "metadata": {
        "id": "idUrF-3m5ToR"
      },
      "execution_count": 14,
      "outputs": []
    },
    {
      "cell_type": "code",
      "source": [
        "move_U(cube)\n",
        "move_R(cube)\n",
        "move_Fp(cube)\n",
        "show_pretty(cube)\n"
      ],
      "metadata": {
        "colab": {
          "base_uri": "https://localhost:8080/"
        },
        "id": "f2T8NI5K5Tq9",
        "outputId": "ac3cd333-c11a-4163-b56c-1cda7ee792ac"
      },
      "execution_count": 15,
      "outputs": [
        {
          "output_type": "stream",
          "name": "stdout",
          "text": [
            "      W W O\n",
            "      W W G\n",
            "      R R R\n",
            "B B G   Y Y Y   B R G   W R R\n",
            "O O W   O G G   Y R G   W B B\n",
            "O O W   O G G   Y R G   W B B\n",
            "      B O O\n",
            "      Y Y B\n",
            "      Y Y R\n"
          ]
        }
      ]
    },
    {
      "cell_type": "code",
      "source": [
        "import random\n",
        "\n",
        "def scramble_cube(c):\n",
        "    seq = []\n",
        "    moves = ['U', \"U'\", 'D', \"D'\", 'L', \"L'\", 'R', \"R'\", 'F', \"F'\", 'B', \"B'\"]\n",
        "    for _ in range(20):\n",
        "        m = random.choice(moves)\n",
        "        seq.append(m)\n",
        "        if m == 'U': move_U(c)\n",
        "        elif m == \"U'\": move_Up(c)\n",
        "        elif m == 'D': move_D(c)\n",
        "        elif m == \"D'\": move_Dp(c)\n",
        "        elif m == 'L': move_L(c)\n",
        "        elif m == \"L'\": move_Lp(c)\n",
        "        elif m == 'R': move_R(c)\n",
        "        elif m == \"R'\": move_Rp(c)\n",
        "        elif m == 'F': move_F(c)\n",
        "        elif m == \"F'\": move_Fp(c)\n",
        "        elif m == 'B': move_B(c)\n",
        "        elif m == \"B'\": move_Bp(c)\n",
        "    print(\"Scramble sequence:\")\n",
        "    print(' '.join(seq))\n"
      ],
      "metadata": {
        "id": "jwDHOPkJ5Ttd"
      },
      "execution_count": 16,
      "outputs": []
    },
    {
      "cell_type": "code",
      "source": [
        "cube = get_solved_cube()\n",
        "scramble_cube(cube)\n",
        "print(\"\\nScrambled Cube:\")\n",
        "show_pretty(cube)\n"
      ],
      "metadata": {
        "colab": {
          "base_uri": "https://localhost:8080/"
        },
        "id": "qfGd6Vy85Tv1",
        "outputId": "699ddf19-3f3e-4ed9-e5d3-a9baca6d9df5"
      },
      "execution_count": 17,
      "outputs": [
        {
          "output_type": "stream",
          "name": "stdout",
          "text": [
            "Scramble sequence:\n",
            "D' D F D' U B B L' B D' U L' F B' F F U' L' D L\n",
            "\n",
            "Scrambled Cube:\n",
            "      W O W\n",
            "      B W W\n",
            "      R R R\n",
            "Y G G   B O B   W W O   G B Y\n",
            "Y O W   Y G R   Y R G   G B W\n",
            "W Y R   Y O O   G R R   B B B\n",
            "      O G G\n",
            "      R Y O\n",
            "      O B Y\n"
          ]
        }
      ]
    },
    {
      "cell_type": "code",
      "source": [
        "def solve_cube(c):\n",
        "    solve_white_cross(c)\n",
        "    solve_white_corners(c)\n",
        "    solve_middle_layer(c)\n",
        "    solve_yellow_cross(c)\n",
        "    solve_final_layer(c)\n"
      ],
      "metadata": {
        "id": "R2LzPZIcEtzo"
      },
      "execution_count": 22,
      "outputs": []
    },
    {
      "cell_type": "code",
      "source": [
        "def invert(move):\n",
        "    return move[:-1] if \"'\" in move else move + \"'\"\n",
        "\n",
        "def solve_cube(c, scramble_sequence):\n",
        "    reverse_moves = [invert(m) for m in reversed(scramble_sequence)]\n",
        "    for m in reverse_moves:\n",
        "        if m == 'U': move_U(c)\n",
        "        elif m == \"U'\": move_Up(c)\n",
        "        elif m == 'D': move_D(c)\n",
        "        elif m == \"D'\": move_Dp(c)\n",
        "        elif m == 'L': move_L(c)\n",
        "        elif m == \"L'\": move_Lp(c)\n",
        "        elif m == 'R': move_R(c)\n",
        "        elif m == \"R'\": move_Rp(c)\n",
        "        elif m == 'F': move_F(c)\n",
        "        elif m == \"F'\": move_Fp(c)\n",
        "        elif m == 'B': move_B(c)\n",
        "        elif m == \"B'\": move_Bp(c)\n"
      ],
      "metadata": {
        "id": "6zSZ5kid5TyZ"
      },
      "execution_count": 18,
      "outputs": []
    },
    {
      "cell_type": "code",
      "source": [
        "cube = get_solved_cube()\n",
        "scramble_sequence = []\n",
        "\n",
        "def scramble_and_remember(c):\n",
        "    global scramble_sequence\n",
        "    scramble_sequence = []\n",
        "    moves = ['U', \"U'\", 'D', \"D'\", 'L', \"L'\", 'R', \"R'\", 'F', \"F'\", 'B', \"B'\"]\n",
        "    for _ in range(20):\n",
        "        m = random.choice(moves)\n",
        "        scramble_sequence.append(m)\n",
        "        if m == 'U': move_U(c)\n",
        "        elif m == \"U'\": move_Up(c)\n",
        "        elif m == 'D': move_D(c)\n",
        "        elif m == \"D'\": move_Dp(c)\n",
        "        elif m == 'L': move_L(c)\n",
        "        elif m == \"L'\": move_Lp(c)\n",
        "        elif m == 'R': move_R(c)\n",
        "        elif m == \"R'\": move_Rp(c)\n",
        "        elif m == 'F': move_F(c)\n",
        "        elif m == \"F'\": move_Fp(c)\n",
        "        elif m == 'B': move_B(c)\n",
        "        elif m == \"B'\": move_Bp(c)\n",
        "    print(\"Scramble sequence:\")\n",
        "    print(' '.join(scramble_sequence))\n",
        "\n",
        "scramble_and_remember(cube)\n",
        "print(\"\\nScrambled:\")\n",
        "show_pretty(cube)\n",
        "\n",
        "solve_cube(cube, scramble_sequence)\n",
        "print(\"\\n Fully Solved Cube:\")\n",
        "show_pretty(cube)\n"
      ],
      "metadata": {
        "colab": {
          "base_uri": "https://localhost:8080/"
        },
        "id": "50FnfGuK5T1J",
        "outputId": "2a7ea1ee-a5c2-4286-f0fa-97c4554a9283"
      },
      "execution_count": 20,
      "outputs": [
        {
          "output_type": "stream",
          "name": "stdout",
          "text": [
            "Scramble sequence:\n",
            "B' U R' D' L U' L' B D' R U' D F D' B L L' L R' U\n",
            "\n",
            "Scrambled:\n",
            "      G B B\n",
            "      O W R\n",
            "      W G R\n",
            "Y W B   B O W   R G Y   Y Y G\n",
            "W O W   R G B   Y R O   R B O\n",
            "R G O   W B O   O W B   G Y W\n",
            "      O R Y\n",
            "      Y Y G\n",
            "      R B G\n",
            "\n",
            " Fully Solved Cube:\n",
            "      W W W\n",
            "      W W W\n",
            "      W W W\n",
            "O O O   G G G   R R R   B B B\n",
            "O O O   G G G   R R R   B B B\n",
            "O O O   G G G   R R R   B B B\n",
            "      Y Y Y\n",
            "      Y Y Y\n",
            "      Y Y Y\n"
          ]
        }
      ]
    }
  ]
}